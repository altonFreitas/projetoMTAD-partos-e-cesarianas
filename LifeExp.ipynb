{
 "cells": [
  {
   "cell_type": "code",
   "execution_count": 4,
   "metadata": {},
   "outputs": [],
   "source": [
    "import pandas as pd"
   ]
  },
  {
   "cell_type": "code",
   "execution_count": 5,
   "metadata": {},
   "outputs": [
    {
     "name": "stdout",
     "output_type": "stream",
     "text": [
      "<class 'pandas.core.frame.DataFrame'>\n",
      "RangeIndex: 1649 entries, 0 to 1648\n",
      "Data columns (total 22 columns):\n",
      " #   Column                           Non-Null Count  Dtype  \n",
      "---  ------                           --------------  -----  \n",
      " 0   Country                          1649 non-null   object \n",
      " 1   Year                             1649 non-null   int64  \n",
      " 2   Status                           1649 non-null   object \n",
      " 3   Life expectancy                  1649 non-null   float64\n",
      " 4   Adult Mortality                  1649 non-null   int64  \n",
      " 5   infant deaths                    1649 non-null   int64  \n",
      " 6   Alcohol                          1649 non-null   float64\n",
      " 7   percentage expenditure           1649 non-null   float64\n",
      " 8   Hepatitis B                      1649 non-null   int64  \n",
      " 9   Measles                          1649 non-null   int64  \n",
      " 10   BMI                             1649 non-null   float64\n",
      " 11  under-five deaths                1649 non-null   int64  \n",
      " 12  Polio                            1649 non-null   int64  \n",
      " 13  Total expenditure                1649 non-null   float64\n",
      " 14  Diphtheria                       1649 non-null   int64  \n",
      " 15   HIV/AIDS                        1649 non-null   float64\n",
      " 16  GDP                              1649 non-null   float64\n",
      " 17  Population                       1649 non-null   float64\n",
      " 18   thinness  1-19 years            1649 non-null   float64\n",
      " 19   thinness 5-9 years              1649 non-null   float64\n",
      " 20  Income composition of resources  1649 non-null   float64\n",
      " 21  Schooling                        1649 non-null   float64\n",
      "dtypes: float64(12), int64(8), object(2)\n",
      "memory usage: 283.6+ KB\n",
      "None\n"
     ]
    }
   ],
   "source": [
    "df = pd.read_csv('Life_Expectancy_Data.csv')\n",
    "print (df.info())"
   ]
  },
  {
   "cell_type": "code",
   "execution_count": 6,
   "metadata": {},
   "outputs": [
    {
     "name": "stdout",
     "output_type": "stream",
     "text": [
      "          Country  Year      Status  Life expectancy   Adult Mortality  \\\n",
      "0     Afghanistan  2015  Developing              65.0              263   \n",
      "1     Afghanistan  2014  Developing              59.9              271   \n",
      "2     Afghanistan  2013  Developing              59.9              268   \n",
      "3     Afghanistan  2012  Developing              59.5              272   \n",
      "4     Afghanistan  2011  Developing              59.2              275   \n",
      "...           ...   ...         ...               ...              ...   \n",
      "1644     Zimbabwe  2004  Developing              44.3              723   \n",
      "1645     Zimbabwe  2003  Developing              44.5              715   \n",
      "1646     Zimbabwe  2002  Developing              44.8               73   \n",
      "1647     Zimbabwe  2001  Developing              45.3              686   \n",
      "1648     Zimbabwe  2000  Developing              46.0              665   \n",
      "\n",
      "      infant deaths  Alcohol  percentage expenditure  Hepatitis B  Measles   \\\n",
      "0                62     0.01               71.279624           65      1154   \n",
      "1                64     0.01               73.523582           62       492   \n",
      "2                66     0.01               73.219243           64       430   \n",
      "3                69     0.01               78.184215           67      2787   \n",
      "4                71     0.01                7.097109           68      3013   \n",
      "...             ...      ...                     ...          ...       ...   \n",
      "1644             27     4.36                0.000000           68        31   \n",
      "1645             26     4.06                0.000000            7       998   \n",
      "1646             25     4.43                0.000000           73       304   \n",
      "1647             25     1.72                0.000000           76       529   \n",
      "1648             24     1.68                0.000000           79      1483   \n",
      "\n",
      "      ...  Polio  Total expenditure  Diphtheria    HIV/AIDS         GDP  \\\n",
      "0     ...      6               8.16           65        0.1  584.259210   \n",
      "1     ...     58               8.18           62        0.1  612.696514   \n",
      "2     ...     62               8.13           64        0.1  631.744976   \n",
      "3     ...     67               8.52           67        0.1  669.959000   \n",
      "4     ...     68               7.87           68        0.1   63.537231   \n",
      "...   ...    ...                ...          ...        ...         ...   \n",
      "1644  ...     67               7.13           65       33.6  454.366654   \n",
      "1645  ...      7               6.52           68       36.7  453.351155   \n",
      "1646  ...     73               6.53           71       39.8   57.348340   \n",
      "1647  ...     76               6.16           75       42.1  548.587312   \n",
      "1648  ...     78               7.10           78       43.5  547.358878   \n",
      "\n",
      "      Population   thinness  1-19 years   thinness 5-9 years  \\\n",
      "0     33736494.0                   17.2                 17.3   \n",
      "1       327582.0                   17.5                 17.5   \n",
      "2     31731688.0                   17.7                 17.7   \n",
      "3      3696958.0                   17.9                 18.0   \n",
      "4      2978599.0                   18.2                 18.2   \n",
      "...          ...                    ...                  ...   \n",
      "1644  12777511.0                    9.4                  9.4   \n",
      "1645  12633897.0                    9.8                  9.9   \n",
      "1646    125525.0                    1.2                  1.3   \n",
      "1647  12366165.0                    1.6                  1.7   \n",
      "1648  12222251.0                   11.0                 11.2   \n",
      "\n",
      "      Income composition of resources  Schooling  \n",
      "0                               0.479       10.1  \n",
      "1                               0.476       10.0  \n",
      "2                               0.470        9.9  \n",
      "3                               0.463        9.8  \n",
      "4                               0.454        9.5  \n",
      "...                               ...        ...  \n",
      "1644                            0.407        9.2  \n",
      "1645                            0.418        9.5  \n",
      "1646                            0.427       10.0  \n",
      "1647                            0.427        9.8  \n",
      "1648                            0.434        9.8  \n",
      "\n",
      "[1649 rows x 22 columns]\n"
     ]
    }
   ],
   "source": [
    "print (df)"
   ]
  }
 ],
 "metadata": {
  "kernelspec": {
   "display_name": "ProjetoMTAD",
   "language": "python",
   "name": "python3"
  },
  "language_info": {
   "codemirror_mode": {
    "name": "ipython",
    "version": 3
   },
   "file_extension": ".py",
   "mimetype": "text/x-python",
   "name": "python",
   "nbconvert_exporter": "python",
   "pygments_lexer": "ipython3",
   "version": "3.11.10"
  }
 },
 "nbformat": 4,
 "nbformat_minor": 2
}
